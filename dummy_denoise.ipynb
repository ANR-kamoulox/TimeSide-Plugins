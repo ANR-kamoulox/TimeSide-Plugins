{
 "cells": [
  {
   "cell_type": "code",
   "execution_count": 1,
   "metadata": {},
   "outputs": [],
   "source": [
    "import timeside.core"
   ]
  },
  {
   "cell_type": "code",
   "execution_count": 2,
   "metadata": {},
   "outputs": [
    {
     "name": "stdout",
     "output_type": "stream",
     "text": [
      "IEffect\n",
      "=======\n",
      "  * dummy_denoise :\n",
      "    \t\tA dummy analyzer returning random samples from audio frames\n",
      "  * fx_gain :\n",
      "    \t\tGain effect processor\n"
     ]
    }
   ],
   "source": [
    "timeside.core.list_processors(timeside.core.api.IEffect)\n",
    "\n",
    "#timeside.core.list_processors(timeside.core.api.IEncoder)"
   ]
  },
  {
   "cell_type": "code",
   "execution_count": 4,
   "metadata": {},
   "outputs": [],
   "source": [
    "from timeside.core import get_processor\n",
    "decoder = get_processor('file_decoder')(\"noisy_sources/noisy2CNRSMH_E_1956_024_001_001_01.wav\")\n",
    "fx = get_processor('dummy_denoise')()\n",
    "encoder = get_processor('wav_encoder')('dummy.wav', overwrite=True)\n",
    "\n",
    "pipe = (decoder|fx|encoder)\n",
    "pipe.run(blocksize=48000*2)"
   ]
  },
  {
   "cell_type": "code",
   "execution_count": null,
   "metadata": {},
   "outputs": [],
   "source": []
  }
 ],
 "metadata": {
  "kernelspec": {
   "display_name": "Python 2",
   "language": "python",
   "name": "python2"
  },
  "language_info": {
   "codemirror_mode": {
    "name": "ipython",
    "version": 2
   },
   "file_extension": ".py",
   "mimetype": "text/x-python",
   "name": "python",
   "nbconvert_exporter": "python",
   "pygments_lexer": "ipython2",
   "version": "2.7.13"
  }
 },
 "nbformat": 4,
 "nbformat_minor": 2
}
